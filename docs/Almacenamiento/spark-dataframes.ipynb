{
 "cells": [
  {
   "cell_type": "markdown",
   "metadata": {},
   "source": [
    "# Spark Dataframes"
   ]
  },
  {
   "cell_type": "markdown",
   "metadata": {},
   "source": [
    "## Instalación de Spark"
   ]
  },
  {
   "cell_type": "markdown",
   "metadata": {},
   "source": [
    "Estas instrucciones son para cualquier sistema Ubuntu/Debian, y funcionan también en Google Colab. Si Spark ya está instalado no hay que ejecutar este bloque."
   ]
  },
  {
   "cell_type": "code",
   "execution_count": null,
   "metadata": {},
   "outputs": [],
   "source": [
    "!apt-get install openjdk-8-jdk-headless -qq > /dev/null\n",
    "!wget -q https://downloads.apache.org/spark/spark-3.1.2/spark-3.1.2-bin-hadoop3.2.tgz\n",
    "!tar xf spark-3.1.2-bin-hadoop3.2.tgz\n",
    "!pip install findspark\n",
    "\n",
    "import os\n",
    "import findspark\n",
    "os.environ[\"JAVA_HOME\"] = \"/usr/lib/jvm/java-8-openjdk-amd64\"\n",
    "os.environ[\"SPARK_HOME\"] = \"/content/spark-3.1.2-bin-hadoop3.2\"\n",
    "findspark.init()"
   ]
  },
  {
   "cell_type": "code",
   "execution_count": null,
   "metadata": {},
   "outputs": [],
   "source": [
    "from pyspark.sql import SparkSession\n",
    "spark = SparkSession.builder\\\n",
    "        .master(\"local\")\\\n",
    "        .appName(\"Colab\")\\\n",
    "        .config('spark.ui.port', '4050')\\\n",
    "        .getOrCreate()"
   ]
  },
  {
   "cell_type": "markdown",
   "metadata": {},
   "source": [
    "## Creación de dataframes"
   ]
  },
  {
   "cell_type": "code",
   "execution_count": null,
   "metadata": {},
   "outputs": [],
   "source": [
    "# Desde CSV\n",
    "ratings = spark.read.csv(filename, header = True, inferSchema= True)\n",
    "\n",
    "# Desde JSON\n",
    "ratings = spark.read.json(filename, header = True, inferSchema= True)\n",
    "\n",
    "# A partir de una DF de Pandas\n",
    "ratings = spark.createDataFrame(df)\n",
    "\n",
    "# Manualmente\n",
    "id_usuarios = spark.createDataFrame([12, 45, 3, 26, 8], \"int\").toDF(\"user_id\")"
   ]
  },
  {
   "cell_type": "markdown",
   "metadata": {},
   "source": [
    "## Funciones"
   ]
  },
  {
   "cell_type": "markdown",
   "metadata": {},
   "source": [
    "* `.select(...)`: extrae una o más columnas de un DataFrame. `df.select('Model', 'ScreenSize').show()  `\n",
    "* `.filter(...)`: selecciona las filas que cumplen una condición. `df.filter(df.Year > 2015).show()`  \n",
    "* `.groupBy(...)`: aplica una función de agregación a los valores de una o varias columnas. `df.groupBy('RAM').count().show()`  \n",
    "* `.orderBy(...)`: ordena valores. `df.orderBy(‘Weight').show()`  \n",
    "* `df1.union(df2)`: concatena dos dataframes que tienen el mismo schema\n",
    "* `df1.join(df2, type=...)`: junta dos DataFrames, utilizando uniones SQL (inner, etc.)\n",
    "* `.fillna(...)`: da valores a valores vacíos.  \n",
    "* `.dropna()`: elimina filas que contienen valores nulos.  \n",
    "* `.dropDuplicates()`: elimina filas duplicadas.  \n",
    "* `.summary()`, `.describe()`: muestran valores estadísticos descriptivos.  \n",
    "* `.freqItems(...)`: cuenta el número de veces que aparecen los valores en una columna.\n",
    "* `.show()`: Muestra las primeras líneas.  \n",
    "* `.collect()`: Recolecta todos los valores de los nodos de trabajo y los vuelca en un  \n",
    "objeto Python. Cuidado con DataFrames muy grandes.  \n",
    "* `.take(...)`: Similar a collect pero solo recupera un subconjunto.  \n",
    "* `.toPandas()`: Convierte el DataFrame de Spark en un DataFrame de Pandas."
   ]
  },
  {
   "cell_type": "markdown",
   "metadata": {},
   "source": [
    "## SQL"
   ]
  },
  {
   "cell_type": "markdown",
   "metadata": {},
   "source": [
    "También se puede acceder a una dataframe utilizando SQL. Hay que crear una vista con createOrReplaceTempView, y después pasar el comando SQL como un string."
   ]
  },
  {
   "cell_type": "code",
   "execution_count": null,
   "metadata": {},
   "outputs": [],
   "source": [
    "datosDF.createOrReplaceTempView(‘miTabla’)  \n",
    "spark.sql('''SELECT Model, Year, RAM, HDD, ScreenSize FROM miTabla''').show()"
   ]
  }
 ],
 "metadata": {
  "interpreter": {
   "hash": "13eb0af71620a846e484681143862ad0a4deab6cadfc353264e5c14897c11035"
  },
  "kernelspec": {
   "display_name": "Python 3.9.9 64-bit",
   "language": "python",
   "name": "python3"
  },
  "language_info": {
   "codemirror_mode": {
    "name": "ipython",
    "version": 3
   },
   "file_extension": ".py",
   "mimetype": "text/x-python",
   "name": "python",
   "nbconvert_exporter": "python",
   "pygments_lexer": "ipython3",
   "version": "3.9.9"
  },
  "orig_nbformat": 4
 },
 "nbformat": 4,
 "nbformat_minor": 2
}
